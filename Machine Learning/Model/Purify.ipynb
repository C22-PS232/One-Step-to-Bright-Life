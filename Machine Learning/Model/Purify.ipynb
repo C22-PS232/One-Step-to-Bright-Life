{
  "nbformat": 4,
  "nbformat_minor": 0,
  "metadata": {
    "colab": {
      "name": "purify.ipynb",
      "provenance": []
    },
    "kernelspec": {
      "name": "python3",
      "display_name": "Python 3"
    },
    "language_info": {
      "name": "python"
    }
  },
  "cells": [
    {
      "cell_type": "markdown",
      "source": [
        "# **Library**"
      ],
      "metadata": {
        "id": "PdigVm0_ZHYh"
      }
    },
    {
      "cell_type": "code",
      "source": [
        "import pandas as pd\n",
        "import tensorflow as tf\n",
        "import tensorflow_hub as hub\n",
        "import numpy as np\n",
        "\n",
        "import nltk\n",
        "nltk.download('stopwords')\n",
        "from nltk.corpus import stopwords\n",
        "\n",
        "from tensorflow.keras.models import Sequential"
      ],
      "metadata": {
        "colab": {
          "base_uri": "https://localhost:8080/"
        },
        "id": "tZLrtA3DZLfP",
        "outputId": "696d3e90-55b2-42ba-b9d1-d2e285f330d4"
      },
      "execution_count": null,
      "outputs": [
        {
          "output_type": "stream",
          "name": "stdout",
          "text": [
            "[nltk_data] Downloading package stopwords to /root/nltk_data...\n",
            "[nltk_data]   Unzipping corpora/stopwords.zip.\n"
          ]
        }
      ]
    },
    {
      "cell_type": "markdown",
      "source": [
        "# **Dataset**"
      ],
      "metadata": {
        "id": "4PWtvbekZR5N"
      }
    },
    {
      "cell_type": "markdown",
      "source": [
        "**Load Dataset**"
      ],
      "metadata": {
        "id": "CIM0qVE7bDLx"
      }
    },
    {
      "cell_type": "code",
      "source": [
        "from google.colab import drive\n",
        "drive.mount(\"/content/gdrive\")"
      ],
      "metadata": {
        "id": "sC0sMt8AZUwi",
        "colab": {
          "base_uri": "https://localhost:8080/"
        },
        "outputId": "1618b77c-1ea3-4dce-eeff-46a025896169"
      },
      "execution_count": null,
      "outputs": [
        {
          "output_type": "stream",
          "name": "stdout",
          "text": [
            "Mounted at /content/gdrive\n"
          ]
        }
      ]
    },
    {
      "cell_type": "code",
      "source": [
        "train_data = pd.read_csv('/content/gdrive/My Drive/purify/dataset/train.txt', header=None)\n",
        "val_data = pd.read_csv('/content/gdrive/My Drive/purify/dataset/val.txt', header=None)\n",
        "test_data = pd.read_csv('/content/gdrive/My Drive/purify/dataset/test.txt', header=None)"
      ],
      "metadata": {
        "id": "iaHvVlMGZg2R"
      },
      "execution_count": null,
      "outputs": []
    },
    {
      "cell_type": "code",
      "source": [
        "train_data.head(10)"
      ],
      "metadata": {
        "colab": {
          "base_uri": "https://localhost:8080/",
          "height": 363
        },
        "id": "CuG1ajd0aCMc",
        "outputId": "2c8d4fa9-94a3-4ebc-fce8-1f7c2df48bc8"
      },
      "execution_count": null,
      "outputs": [
        {
          "output_type": "execute_result",
          "data": {
            "text/plain": [
              "                                                   0\n",
              "0                    i didnt feel humiliated;sadness\n",
              "1  i can go from feeling so hopeless to so damned...\n",
              "2  im grabbing a minute to post i feel greedy wro...\n",
              "3  i am ever feeling nostalgic about the fireplac...\n",
              "4                         i am feeling grouchy;anger\n",
              "5  ive been feeling a little burdened lately wasn...\n",
              "6  ive been taking or milligrams or times recomme...\n",
              "7  i feel as confused about life as a teenager or...\n",
              "8  i have been with petronas for years i feel tha...\n",
              "9                           i feel romantic too;love"
            ],
            "text/html": [
              "\n",
              "  <div id=\"df-b42c7bc8-3e49-492e-8a2d-c356bf422bc7\">\n",
              "    <div class=\"colab-df-container\">\n",
              "      <div>\n",
              "<style scoped>\n",
              "    .dataframe tbody tr th:only-of-type {\n",
              "        vertical-align: middle;\n",
              "    }\n",
              "\n",
              "    .dataframe tbody tr th {\n",
              "        vertical-align: top;\n",
              "    }\n",
              "\n",
              "    .dataframe thead th {\n",
              "        text-align: right;\n",
              "    }\n",
              "</style>\n",
              "<table border=\"1\" class=\"dataframe\">\n",
              "  <thead>\n",
              "    <tr style=\"text-align: right;\">\n",
              "      <th></th>\n",
              "      <th>0</th>\n",
              "    </tr>\n",
              "  </thead>\n",
              "  <tbody>\n",
              "    <tr>\n",
              "      <th>0</th>\n",
              "      <td>i didnt feel humiliated;sadness</td>\n",
              "    </tr>\n",
              "    <tr>\n",
              "      <th>1</th>\n",
              "      <td>i can go from feeling so hopeless to so damned...</td>\n",
              "    </tr>\n",
              "    <tr>\n",
              "      <th>2</th>\n",
              "      <td>im grabbing a minute to post i feel greedy wro...</td>\n",
              "    </tr>\n",
              "    <tr>\n",
              "      <th>3</th>\n",
              "      <td>i am ever feeling nostalgic about the fireplac...</td>\n",
              "    </tr>\n",
              "    <tr>\n",
              "      <th>4</th>\n",
              "      <td>i am feeling grouchy;anger</td>\n",
              "    </tr>\n",
              "    <tr>\n",
              "      <th>5</th>\n",
              "      <td>ive been feeling a little burdened lately wasn...</td>\n",
              "    </tr>\n",
              "    <tr>\n",
              "      <th>6</th>\n",
              "      <td>ive been taking or milligrams or times recomme...</td>\n",
              "    </tr>\n",
              "    <tr>\n",
              "      <th>7</th>\n",
              "      <td>i feel as confused about life as a teenager or...</td>\n",
              "    </tr>\n",
              "    <tr>\n",
              "      <th>8</th>\n",
              "      <td>i have been with petronas for years i feel tha...</td>\n",
              "    </tr>\n",
              "    <tr>\n",
              "      <th>9</th>\n",
              "      <td>i feel romantic too;love</td>\n",
              "    </tr>\n",
              "  </tbody>\n",
              "</table>\n",
              "</div>\n",
              "      <button class=\"colab-df-convert\" onclick=\"convertToInteractive('df-b42c7bc8-3e49-492e-8a2d-c356bf422bc7')\"\n",
              "              title=\"Convert this dataframe to an interactive table.\"\n",
              "              style=\"display:none;\">\n",
              "        \n",
              "  <svg xmlns=\"http://www.w3.org/2000/svg\" height=\"24px\"viewBox=\"0 0 24 24\"\n",
              "       width=\"24px\">\n",
              "    <path d=\"M0 0h24v24H0V0z\" fill=\"none\"/>\n",
              "    <path d=\"M18.56 5.44l.94 2.06.94-2.06 2.06-.94-2.06-.94-.94-2.06-.94 2.06-2.06.94zm-11 1L8.5 8.5l.94-2.06 2.06-.94-2.06-.94L8.5 2.5l-.94 2.06-2.06.94zm10 10l.94 2.06.94-2.06 2.06-.94-2.06-.94-.94-2.06-.94 2.06-2.06.94z\"/><path d=\"M17.41 7.96l-1.37-1.37c-.4-.4-.92-.59-1.43-.59-.52 0-1.04.2-1.43.59L10.3 9.45l-7.72 7.72c-.78.78-.78 2.05 0 2.83L4 21.41c.39.39.9.59 1.41.59.51 0 1.02-.2 1.41-.59l7.78-7.78 2.81-2.81c.8-.78.8-2.07 0-2.86zM5.41 20L4 18.59l7.72-7.72 1.47 1.35L5.41 20z\"/>\n",
              "  </svg>\n",
              "      </button>\n",
              "      \n",
              "  <style>\n",
              "    .colab-df-container {\n",
              "      display:flex;\n",
              "      flex-wrap:wrap;\n",
              "      gap: 12px;\n",
              "    }\n",
              "\n",
              "    .colab-df-convert {\n",
              "      background-color: #E8F0FE;\n",
              "      border: none;\n",
              "      border-radius: 50%;\n",
              "      cursor: pointer;\n",
              "      display: none;\n",
              "      fill: #1967D2;\n",
              "      height: 32px;\n",
              "      padding: 0 0 0 0;\n",
              "      width: 32px;\n",
              "    }\n",
              "\n",
              "    .colab-df-convert:hover {\n",
              "      background-color: #E2EBFA;\n",
              "      box-shadow: 0px 1px 2px rgba(60, 64, 67, 0.3), 0px 1px 3px 1px rgba(60, 64, 67, 0.15);\n",
              "      fill: #174EA6;\n",
              "    }\n",
              "\n",
              "    [theme=dark] .colab-df-convert {\n",
              "      background-color: #3B4455;\n",
              "      fill: #D2E3FC;\n",
              "    }\n",
              "\n",
              "    [theme=dark] .colab-df-convert:hover {\n",
              "      background-color: #434B5C;\n",
              "      box-shadow: 0px 1px 3px 1px rgba(0, 0, 0, 0.15);\n",
              "      filter: drop-shadow(0px 1px 2px rgba(0, 0, 0, 0.3));\n",
              "      fill: #FFFFFF;\n",
              "    }\n",
              "  </style>\n",
              "\n",
              "      <script>\n",
              "        const buttonEl =\n",
              "          document.querySelector('#df-b42c7bc8-3e49-492e-8a2d-c356bf422bc7 button.colab-df-convert');\n",
              "        buttonEl.style.display =\n",
              "          google.colab.kernel.accessAllowed ? 'block' : 'none';\n",
              "\n",
              "        async function convertToInteractive(key) {\n",
              "          const element = document.querySelector('#df-b42c7bc8-3e49-492e-8a2d-c356bf422bc7');\n",
              "          const dataTable =\n",
              "            await google.colab.kernel.invokeFunction('convertToInteractive',\n",
              "                                                     [key], {});\n",
              "          if (!dataTable) return;\n",
              "\n",
              "          const docLinkHtml = 'Like what you see? Visit the ' +\n",
              "            '<a target=\"_blank\" href=https://colab.research.google.com/notebooks/data_table.ipynb>data table notebook</a>'\n",
              "            + ' to learn more about interactive tables.';\n",
              "          element.innerHTML = '';\n",
              "          dataTable['output_type'] = 'display_data';\n",
              "          await google.colab.output.renderOutput(dataTable, element);\n",
              "          const docLink = document.createElement('div');\n",
              "          docLink.innerHTML = docLinkHtml;\n",
              "          element.appendChild(docLink);\n",
              "        }\n",
              "      </script>\n",
              "    </div>\n",
              "  </div>\n",
              "  "
            ]
          },
          "metadata": {},
          "execution_count": 5
        }
      ]
    },
    {
      "cell_type": "markdown",
      "source": [
        "**Prepare Dataset**"
      ],
      "metadata": {
        "id": "Mx2d-6I_bMDq"
      }
    },
    {
      "cell_type": "code",
      "source": [
        "def rename_column(dataset):\n",
        "    dataset.rename(columns = {0: \"description\"}, inplace = True)\n",
        "    return dataset"
      ],
      "metadata": {
        "id": "rGlXssJdaNAe"
      },
      "execution_count": null,
      "outputs": []
    },
    {
      "cell_type": "code",
      "source": [
        "#rename column\n",
        "rename_column(train_data)\n",
        "rename_column(val_data)\n",
        "rename_column(test_data)"
      ],
      "metadata": {
        "colab": {
          "base_uri": "https://localhost:8080/",
          "height": 424
        },
        "id": "dJemxV2-alH8",
        "outputId": "7d5d171d-a5ca-430a-b02c-d9d546d1feac"
      },
      "execution_count": null,
      "outputs": [
        {
          "output_type": "execute_result",
          "data": {
            "text/plain": [
              "                                            description\n",
              "0     im feeling rather rotten so im not very ambiti...\n",
              "1     im updating my blog because i feel shitty;sadness\n",
              "2     i never make her separate from me because i do...\n",
              "3     i left with my bouquet of red and yellow tulip...\n",
              "4     i was feeling a little vain when i did this on...\n",
              "...                                                 ...\n",
              "1995  i just keep feeling like someone is being unki...\n",
              "1996  im feeling a little cranky negative after this...\n",
              "1997  i feel that i am useful to my people and that ...\n",
              "1998  im feeling more comfortable with derby i feel ...\n",
              "1999  i feel all weird when i have to meet w people ...\n",
              "\n",
              "[2000 rows x 1 columns]"
            ],
            "text/html": [
              "\n",
              "  <div id=\"df-a76110ee-59b9-4e9e-8859-39e9580409c7\">\n",
              "    <div class=\"colab-df-container\">\n",
              "      <div>\n",
              "<style scoped>\n",
              "    .dataframe tbody tr th:only-of-type {\n",
              "        vertical-align: middle;\n",
              "    }\n",
              "\n",
              "    .dataframe tbody tr th {\n",
              "        vertical-align: top;\n",
              "    }\n",
              "\n",
              "    .dataframe thead th {\n",
              "        text-align: right;\n",
              "    }\n",
              "</style>\n",
              "<table border=\"1\" class=\"dataframe\">\n",
              "  <thead>\n",
              "    <tr style=\"text-align: right;\">\n",
              "      <th></th>\n",
              "      <th>description</th>\n",
              "    </tr>\n",
              "  </thead>\n",
              "  <tbody>\n",
              "    <tr>\n",
              "      <th>0</th>\n",
              "      <td>im feeling rather rotten so im not very ambiti...</td>\n",
              "    </tr>\n",
              "    <tr>\n",
              "      <th>1</th>\n",
              "      <td>im updating my blog because i feel shitty;sadness</td>\n",
              "    </tr>\n",
              "    <tr>\n",
              "      <th>2</th>\n",
              "      <td>i never make her separate from me because i do...</td>\n",
              "    </tr>\n",
              "    <tr>\n",
              "      <th>3</th>\n",
              "      <td>i left with my bouquet of red and yellow tulip...</td>\n",
              "    </tr>\n",
              "    <tr>\n",
              "      <th>4</th>\n",
              "      <td>i was feeling a little vain when i did this on...</td>\n",
              "    </tr>\n",
              "    <tr>\n",
              "      <th>...</th>\n",
              "      <td>...</td>\n",
              "    </tr>\n",
              "    <tr>\n",
              "      <th>1995</th>\n",
              "      <td>i just keep feeling like someone is being unki...</td>\n",
              "    </tr>\n",
              "    <tr>\n",
              "      <th>1996</th>\n",
              "      <td>im feeling a little cranky negative after this...</td>\n",
              "    </tr>\n",
              "    <tr>\n",
              "      <th>1997</th>\n",
              "      <td>i feel that i am useful to my people and that ...</td>\n",
              "    </tr>\n",
              "    <tr>\n",
              "      <th>1998</th>\n",
              "      <td>im feeling more comfortable with derby i feel ...</td>\n",
              "    </tr>\n",
              "    <tr>\n",
              "      <th>1999</th>\n",
              "      <td>i feel all weird when i have to meet w people ...</td>\n",
              "    </tr>\n",
              "  </tbody>\n",
              "</table>\n",
              "<p>2000 rows × 1 columns</p>\n",
              "</div>\n",
              "      <button class=\"colab-df-convert\" onclick=\"convertToInteractive('df-a76110ee-59b9-4e9e-8859-39e9580409c7')\"\n",
              "              title=\"Convert this dataframe to an interactive table.\"\n",
              "              style=\"display:none;\">\n",
              "        \n",
              "  <svg xmlns=\"http://www.w3.org/2000/svg\" height=\"24px\"viewBox=\"0 0 24 24\"\n",
              "       width=\"24px\">\n",
              "    <path d=\"M0 0h24v24H0V0z\" fill=\"none\"/>\n",
              "    <path d=\"M18.56 5.44l.94 2.06.94-2.06 2.06-.94-2.06-.94-.94-2.06-.94 2.06-2.06.94zm-11 1L8.5 8.5l.94-2.06 2.06-.94-2.06-.94L8.5 2.5l-.94 2.06-2.06.94zm10 10l.94 2.06.94-2.06 2.06-.94-2.06-.94-.94-2.06-.94 2.06-2.06.94z\"/><path d=\"M17.41 7.96l-1.37-1.37c-.4-.4-.92-.59-1.43-.59-.52 0-1.04.2-1.43.59L10.3 9.45l-7.72 7.72c-.78.78-.78 2.05 0 2.83L4 21.41c.39.39.9.59 1.41.59.51 0 1.02-.2 1.41-.59l7.78-7.78 2.81-2.81c.8-.78.8-2.07 0-2.86zM5.41 20L4 18.59l7.72-7.72 1.47 1.35L5.41 20z\"/>\n",
              "  </svg>\n",
              "      </button>\n",
              "      \n",
              "  <style>\n",
              "    .colab-df-container {\n",
              "      display:flex;\n",
              "      flex-wrap:wrap;\n",
              "      gap: 12px;\n",
              "    }\n",
              "\n",
              "    .colab-df-convert {\n",
              "      background-color: #E8F0FE;\n",
              "      border: none;\n",
              "      border-radius: 50%;\n",
              "      cursor: pointer;\n",
              "      display: none;\n",
              "      fill: #1967D2;\n",
              "      height: 32px;\n",
              "      padding: 0 0 0 0;\n",
              "      width: 32px;\n",
              "    }\n",
              "\n",
              "    .colab-df-convert:hover {\n",
              "      background-color: #E2EBFA;\n",
              "      box-shadow: 0px 1px 2px rgba(60, 64, 67, 0.3), 0px 1px 3px 1px rgba(60, 64, 67, 0.15);\n",
              "      fill: #174EA6;\n",
              "    }\n",
              "\n",
              "    [theme=dark] .colab-df-convert {\n",
              "      background-color: #3B4455;\n",
              "      fill: #D2E3FC;\n",
              "    }\n",
              "\n",
              "    [theme=dark] .colab-df-convert:hover {\n",
              "      background-color: #434B5C;\n",
              "      box-shadow: 0px 1px 3px 1px rgba(0, 0, 0, 0.15);\n",
              "      filter: drop-shadow(0px 1px 2px rgba(0, 0, 0, 0.3));\n",
              "      fill: #FFFFFF;\n",
              "    }\n",
              "  </style>\n",
              "\n",
              "      <script>\n",
              "        const buttonEl =\n",
              "          document.querySelector('#df-a76110ee-59b9-4e9e-8859-39e9580409c7 button.colab-df-convert');\n",
              "        buttonEl.style.display =\n",
              "          google.colab.kernel.accessAllowed ? 'block' : 'none';\n",
              "\n",
              "        async function convertToInteractive(key) {\n",
              "          const element = document.querySelector('#df-a76110ee-59b9-4e9e-8859-39e9580409c7');\n",
              "          const dataTable =\n",
              "            await google.colab.kernel.invokeFunction('convertToInteractive',\n",
              "                                                     [key], {});\n",
              "          if (!dataTable) return;\n",
              "\n",
              "          const docLinkHtml = 'Like what you see? Visit the ' +\n",
              "            '<a target=\"_blank\" href=https://colab.research.google.com/notebooks/data_table.ipynb>data table notebook</a>'\n",
              "            + ' to learn more about interactive tables.';\n",
              "          element.innerHTML = '';\n",
              "          dataTable['output_type'] = 'display_data';\n",
              "          await google.colab.output.renderOutput(dataTable, element);\n",
              "          const docLink = document.createElement('div');\n",
              "          docLink.innerHTML = docLinkHtml;\n",
              "          element.appendChild(docLink);\n",
              "        }\n",
              "      </script>\n",
              "    </div>\n",
              "  </div>\n",
              "  "
            ]
          },
          "metadata": {},
          "execution_count": 7
        }
      ]
    },
    {
      "cell_type": "code",
      "source": [
        "def prepare_table(dataset):\n",
        "    dataset[[\"text\", \"emotion\"]] = dataset[\"description\"].str.split(\";\", expand = True)\n",
        "    dataset = dataset.drop(\"description\", axis = 1)\n",
        "    return dataset"
      ],
      "metadata": {
        "id": "P3axRt5ZaOsl"
      },
      "execution_count": null,
      "outputs": []
    },
    {
      "cell_type": "code",
      "source": [
        "#prepare table\n",
        "train_data = prepare_table(train_data)\n",
        "val_data = prepare_table(val_data)\n",
        "test_data = prepare_table(test_data)"
      ],
      "metadata": {
        "id": "Es6XKmOfanOz"
      },
      "execution_count": null,
      "outputs": []
    },
    {
      "cell_type": "markdown",
      "source": [
        "**Remove Stopwords**"
      ],
      "metadata": {
        "id": "9ePvNM2XHDSp"
      }
    },
    {
      "cell_type": "code",
      "source": [
        "def remove_stopwords(input_text):\n",
        "    words = input_text.split()\n",
        "    clean_words = [word for word in words if word not in stopwords.words(\"english\")]\n",
        "    clean_words = \" \".join(clean_words)\n",
        "    return clean_words"
      ],
      "metadata": {
        "id": "DAkR2QC2_iOl"
      },
      "execution_count": null,
      "outputs": []
    },
    {
      "cell_type": "code",
      "source": [
        "train_data[\"text\"] = train_data[\"text\"].apply(remove_stopwords)\n",
        "val_data[\"text\"] = val_data[\"text\"].apply(remove_stopwords)\n",
        "test_data[\"text\"] = test_data[\"text\"].apply(remove_stopwords)"
      ],
      "metadata": {
        "id": "Oym5gCzz_koA"
      },
      "execution_count": null,
      "outputs": []
    },
    {
      "cell_type": "code",
      "source": [
        "train_data.head(10)"
      ],
      "metadata": {
        "colab": {
          "base_uri": "https://localhost:8080/",
          "height": 363
        },
        "id": "9wNSlzxsa7D_",
        "outputId": "ac5b5aa0-71a4-4ff7-bf9b-c52c651e37ad"
      },
      "execution_count": null,
      "outputs": [
        {
          "output_type": "execute_result",
          "data": {
            "text/plain": [
              "                                                text   emotion\n",
              "0                              didnt feel humiliated   sadness\n",
              "1  go feeling hopeless damned hopeful around some...   sadness\n",
              "2          im grabbing minute post feel greedy wrong     anger\n",
              "3  ever feeling nostalgic fireplace know still pr...      love\n",
              "4                                    feeling grouchy     anger\n",
              "5      ive feeling little burdened lately wasnt sure   sadness\n",
              "6  ive taking milligrams times recommended amount...  surprise\n",
              "7     feel confused life teenager jaded year old man      fear\n",
              "8  petronas years feel petronas performed well ma...       joy\n",
              "9                                      feel romantic      love"
            ],
            "text/html": [
              "\n",
              "  <div id=\"df-b9a3ab13-7b37-4539-aebe-2069f354e843\">\n",
              "    <div class=\"colab-df-container\">\n",
              "      <div>\n",
              "<style scoped>\n",
              "    .dataframe tbody tr th:only-of-type {\n",
              "        vertical-align: middle;\n",
              "    }\n",
              "\n",
              "    .dataframe tbody tr th {\n",
              "        vertical-align: top;\n",
              "    }\n",
              "\n",
              "    .dataframe thead th {\n",
              "        text-align: right;\n",
              "    }\n",
              "</style>\n",
              "<table border=\"1\" class=\"dataframe\">\n",
              "  <thead>\n",
              "    <tr style=\"text-align: right;\">\n",
              "      <th></th>\n",
              "      <th>text</th>\n",
              "      <th>emotion</th>\n",
              "    </tr>\n",
              "  </thead>\n",
              "  <tbody>\n",
              "    <tr>\n",
              "      <th>0</th>\n",
              "      <td>didnt feel humiliated</td>\n",
              "      <td>sadness</td>\n",
              "    </tr>\n",
              "    <tr>\n",
              "      <th>1</th>\n",
              "      <td>go feeling hopeless damned hopeful around some...</td>\n",
              "      <td>sadness</td>\n",
              "    </tr>\n",
              "    <tr>\n",
              "      <th>2</th>\n",
              "      <td>im grabbing minute post feel greedy wrong</td>\n",
              "      <td>anger</td>\n",
              "    </tr>\n",
              "    <tr>\n",
              "      <th>3</th>\n",
              "      <td>ever feeling nostalgic fireplace know still pr...</td>\n",
              "      <td>love</td>\n",
              "    </tr>\n",
              "    <tr>\n",
              "      <th>4</th>\n",
              "      <td>feeling grouchy</td>\n",
              "      <td>anger</td>\n",
              "    </tr>\n",
              "    <tr>\n",
              "      <th>5</th>\n",
              "      <td>ive feeling little burdened lately wasnt sure</td>\n",
              "      <td>sadness</td>\n",
              "    </tr>\n",
              "    <tr>\n",
              "      <th>6</th>\n",
              "      <td>ive taking milligrams times recommended amount...</td>\n",
              "      <td>surprise</td>\n",
              "    </tr>\n",
              "    <tr>\n",
              "      <th>7</th>\n",
              "      <td>feel confused life teenager jaded year old man</td>\n",
              "      <td>fear</td>\n",
              "    </tr>\n",
              "    <tr>\n",
              "      <th>8</th>\n",
              "      <td>petronas years feel petronas performed well ma...</td>\n",
              "      <td>joy</td>\n",
              "    </tr>\n",
              "    <tr>\n",
              "      <th>9</th>\n",
              "      <td>feel romantic</td>\n",
              "      <td>love</td>\n",
              "    </tr>\n",
              "  </tbody>\n",
              "</table>\n",
              "</div>\n",
              "      <button class=\"colab-df-convert\" onclick=\"convertToInteractive('df-b9a3ab13-7b37-4539-aebe-2069f354e843')\"\n",
              "              title=\"Convert this dataframe to an interactive table.\"\n",
              "              style=\"display:none;\">\n",
              "        \n",
              "  <svg xmlns=\"http://www.w3.org/2000/svg\" height=\"24px\"viewBox=\"0 0 24 24\"\n",
              "       width=\"24px\">\n",
              "    <path d=\"M0 0h24v24H0V0z\" fill=\"none\"/>\n",
              "    <path d=\"M18.56 5.44l.94 2.06.94-2.06 2.06-.94-2.06-.94-.94-2.06-.94 2.06-2.06.94zm-11 1L8.5 8.5l.94-2.06 2.06-.94-2.06-.94L8.5 2.5l-.94 2.06-2.06.94zm10 10l.94 2.06.94-2.06 2.06-.94-2.06-.94-.94-2.06-.94 2.06-2.06.94z\"/><path d=\"M17.41 7.96l-1.37-1.37c-.4-.4-.92-.59-1.43-.59-.52 0-1.04.2-1.43.59L10.3 9.45l-7.72 7.72c-.78.78-.78 2.05 0 2.83L4 21.41c.39.39.9.59 1.41.59.51 0 1.02-.2 1.41-.59l7.78-7.78 2.81-2.81c.8-.78.8-2.07 0-2.86zM5.41 20L4 18.59l7.72-7.72 1.47 1.35L5.41 20z\"/>\n",
              "  </svg>\n",
              "      </button>\n",
              "      \n",
              "  <style>\n",
              "    .colab-df-container {\n",
              "      display:flex;\n",
              "      flex-wrap:wrap;\n",
              "      gap: 12px;\n",
              "    }\n",
              "\n",
              "    .colab-df-convert {\n",
              "      background-color: #E8F0FE;\n",
              "      border: none;\n",
              "      border-radius: 50%;\n",
              "      cursor: pointer;\n",
              "      display: none;\n",
              "      fill: #1967D2;\n",
              "      height: 32px;\n",
              "      padding: 0 0 0 0;\n",
              "      width: 32px;\n",
              "    }\n",
              "\n",
              "    .colab-df-convert:hover {\n",
              "      background-color: #E2EBFA;\n",
              "      box-shadow: 0px 1px 2px rgba(60, 64, 67, 0.3), 0px 1px 3px 1px rgba(60, 64, 67, 0.15);\n",
              "      fill: #174EA6;\n",
              "    }\n",
              "\n",
              "    [theme=dark] .colab-df-convert {\n",
              "      background-color: #3B4455;\n",
              "      fill: #D2E3FC;\n",
              "    }\n",
              "\n",
              "    [theme=dark] .colab-df-convert:hover {\n",
              "      background-color: #434B5C;\n",
              "      box-shadow: 0px 1px 3px 1px rgba(0, 0, 0, 0.15);\n",
              "      filter: drop-shadow(0px 1px 2px rgba(0, 0, 0, 0.3));\n",
              "      fill: #FFFFFF;\n",
              "    }\n",
              "  </style>\n",
              "\n",
              "      <script>\n",
              "        const buttonEl =\n",
              "          document.querySelector('#df-b9a3ab13-7b37-4539-aebe-2069f354e843 button.colab-df-convert');\n",
              "        buttonEl.style.display =\n",
              "          google.colab.kernel.accessAllowed ? 'block' : 'none';\n",
              "\n",
              "        async function convertToInteractive(key) {\n",
              "          const element = document.querySelector('#df-b9a3ab13-7b37-4539-aebe-2069f354e843');\n",
              "          const dataTable =\n",
              "            await google.colab.kernel.invokeFunction('convertToInteractive',\n",
              "                                                     [key], {});\n",
              "          if (!dataTable) return;\n",
              "\n",
              "          const docLinkHtml = 'Like what you see? Visit the ' +\n",
              "            '<a target=\"_blank\" href=https://colab.research.google.com/notebooks/data_table.ipynb>data table notebook</a>'\n",
              "            + ' to learn more about interactive tables.';\n",
              "          element.innerHTML = '';\n",
              "          dataTable['output_type'] = 'display_data';\n",
              "          await google.colab.output.renderOutput(dataTable, element);\n",
              "          const docLink = document.createElement('div');\n",
              "          docLink.innerHTML = docLinkHtml;\n",
              "          element.appendChild(docLink);\n",
              "        }\n",
              "      </script>\n",
              "    </div>\n",
              "  </div>\n",
              "  "
            ]
          },
          "metadata": {},
          "execution_count": 12
        }
      ]
    },
    {
      "cell_type": "markdown",
      "source": [
        "# **Pre-processing**"
      ],
      "metadata": {
        "id": "r-po8_kbZweZ"
      }
    },
    {
      "cell_type": "code",
      "source": [
        "def preprocess(dataset):\n",
        "    score = []\n",
        "    for i in range(len(dataset.emotion)):\n",
        "        # happy emotion : joy, love, surprise\n",
        "        if dataset.emotion[i] in ['joy', 'love', 'surprise']:\n",
        "            score.append(1) # happy is 1\n",
        "        #sad emotion : anger, fear, sadness\n",
        "        else:\n",
        "            score.append(0) # sad is 0\n",
        "    dataset['score'] = score\n",
        "    return dataset"
      ],
      "metadata": {
        "id": "sSwrfhCJZ0Z6"
      },
      "execution_count": null,
      "outputs": []
    },
    {
      "cell_type": "code",
      "source": [
        "train_data = preprocess(train_data)\n",
        "test_data = preprocess(test_data)\n",
        "val_data = preprocess(val_data)"
      ],
      "metadata": {
        "id": "FAEnbNshcGTf"
      },
      "execution_count": null,
      "outputs": []
    },
    {
      "cell_type": "markdown",
      "source": [
        "# **Model**"
      ],
      "metadata": {
        "id": "_emL3JG-eJ-x"
      }
    },
    {
      "cell_type": "markdown",
      "source": [
        "**Transfer learning**"
      ],
      "metadata": {
        "id": "3IhBZCikexwV"
      }
    },
    {
      "cell_type": "code",
      "source": [
        "model = \"https://tfhub.dev/google/nnlm-en-dim50/2\"\n",
        "hub_layer = hub.KerasLayer(model, input_shape=[], dtype=tf.string, trainable=True)"
      ],
      "metadata": {
        "id": "aMLKDv0GeN1I"
      },
      "execution_count": null,
      "outputs": []
    },
    {
      "cell_type": "code",
      "source": [
        "model = tf.keras.Sequential()\n",
        "model.add(hub_layer)\n",
        "\n",
        "model.summary()"
      ],
      "metadata": {
        "colab": {
          "base_uri": "https://localhost:8080/"
        },
        "id": "sNUGDD-_ki4v",
        "outputId": "82221874-58cf-45ea-d0ad-80933553908e"
      },
      "execution_count": null,
      "outputs": [
        {
          "output_type": "stream",
          "name": "stdout",
          "text": [
            "Model: \"sequential_2\"\n",
            "_________________________________________________________________\n",
            " Layer (type)                Output Shape              Param #   \n",
            "=================================================================\n",
            " keras_layer_1 (KerasLayer)  (None, 50)                48190600  \n",
            "                                                                 \n",
            "=================================================================\n",
            "Total params: 48,190,600\n",
            "Trainable params: 48,190,600\n",
            "Non-trainable params: 0\n",
            "_________________________________________________________________\n"
          ]
        }
      ]
    },
    {
      "cell_type": "markdown",
      "source": [
        "**Building model**"
      ],
      "metadata": {
        "id": "lexMKh8GK_7r"
      }
    },
    {
      "cell_type": "code",
      "source": [
        "new_model = tf.keras.models.Sequential([hub_layer,\n",
        "                                    tf.keras.layers.Dense(256, activation= 'relu'),\n",
        "                                    tf.keras.layers.Dense(64, activation = 'relu'),\n",
        "                                    tf.keras.layers.Dense(1, activation= 'sigmoid')])"
      ],
      "metadata": {
        "id": "Dj-nEhahN6d9"
      },
      "execution_count": null,
      "outputs": []
    },
    {
      "cell_type": "code",
      "source": [
        "new_model.summary()"
      ],
      "metadata": {
        "colab": {
          "base_uri": "https://localhost:8080/"
        },
        "id": "9_ZDKX1lfdOy",
        "outputId": "9bef3512-9b55-4fb6-9992-b95ba6b1bf9f"
      },
      "execution_count": null,
      "outputs": [
        {
          "output_type": "stream",
          "name": "stdout",
          "text": [
            "Model: \"sequential_3\"\n",
            "_________________________________________________________________\n",
            " Layer (type)                Output Shape              Param #   \n",
            "=================================================================\n",
            " keras_layer_1 (KerasLayer)  (None, 50)                48190600  \n",
            "                                                                 \n",
            " dense_3 (Dense)             (None, 256)               13056     \n",
            "                                                                 \n",
            " dense_4 (Dense)             (None, 64)                16448     \n",
            "                                                                 \n",
            " dense_5 (Dense)             (None, 1)                 65        \n",
            "                                                                 \n",
            "=================================================================\n",
            "Total params: 48,220,169\n",
            "Trainable params: 48,220,169\n",
            "Non-trainable params: 0\n",
            "_________________________________________________________________\n"
          ]
        }
      ]
    },
    {
      "cell_type": "code",
      "source": [
        "new_model.compile(optimizer = tf.optimizers.Adam(learning_rate= 0.0001),\n",
        "                loss = tf.losses.BinaryCrossentropy(),\n",
        "                metrics = [tf.metrics.BinaryAccuracy(name = 'accuracy')])"
      ],
      "metadata": {
        "id": "fWRHIIO2ObvS"
      },
      "execution_count": null,
      "outputs": []
    },
    {
      "cell_type": "code",
      "source": [
        "history = new_model.fit(train_data.text, train_data.score,\n",
        "                      epochs = 20,\n",
        "                      batch_size = 256,\n",
        "                      validation_data = (val_data.text, val_data.score))"
      ],
      "metadata": {
        "colab": {
          "base_uri": "https://localhost:8080/"
        },
        "id": "IvAfgYEkOdvX",
        "outputId": "114753fa-5bbf-4ae2-cff9-a34b8c3137f4"
      },
      "execution_count": null,
      "outputs": [
        {
          "output_type": "stream",
          "name": "stdout",
          "text": [
            "Epoch 1/20\n",
            "63/63 [==============================] - 35s 534ms/step - loss: 0.6785 - accuracy: 0.5933 - val_loss: 0.6643 - val_accuracy: 0.6095\n",
            "Epoch 2/20\n",
            "63/63 [==============================] - 35s 556ms/step - loss: 0.6342 - accuracy: 0.7017 - val_loss: 0.6086 - val_accuracy: 0.7445\n",
            "Epoch 3/20\n",
            "63/63 [==============================] - 34s 544ms/step - loss: 0.5620 - accuracy: 0.7746 - val_loss: 0.5282 - val_accuracy: 0.7970\n",
            "Epoch 4/20\n",
            "63/63 [==============================] - 33s 531ms/step - loss: 0.4711 - accuracy: 0.8106 - val_loss: 0.4470 - val_accuracy: 0.8245\n",
            "Epoch 5/20\n",
            "63/63 [==============================] - 34s 535ms/step - loss: 0.3909 - accuracy: 0.8422 - val_loss: 0.3964 - val_accuracy: 0.8465\n",
            "Epoch 6/20\n",
            "63/63 [==============================] - 33s 531ms/step - loss: 0.3289 - accuracy: 0.8706 - val_loss: 0.3479 - val_accuracy: 0.8615\n",
            "Epoch 7/20\n",
            "63/63 [==============================] - 34s 545ms/step - loss: 0.2776 - accuracy: 0.8922 - val_loss: 0.3150 - val_accuracy: 0.8765\n",
            "Epoch 8/20\n",
            "63/63 [==============================] - 33s 532ms/step - loss: 0.2334 - accuracy: 0.9097 - val_loss: 0.2884 - val_accuracy: 0.8875\n",
            "Epoch 9/20\n",
            "63/63 [==============================] - 33s 529ms/step - loss: 0.1957 - accuracy: 0.9272 - val_loss: 0.2715 - val_accuracy: 0.8915\n",
            "Epoch 10/20\n",
            "63/63 [==============================] - 33s 524ms/step - loss: 0.1638 - accuracy: 0.9425 - val_loss: 0.2540 - val_accuracy: 0.8995\n",
            "Epoch 11/20\n",
            "63/63 [==============================] - 32s 514ms/step - loss: 0.1378 - accuracy: 0.9534 - val_loss: 0.2429 - val_accuracy: 0.9015\n",
            "Epoch 12/20\n",
            "63/63 [==============================] - 34s 536ms/step - loss: 0.1164 - accuracy: 0.9624 - val_loss: 0.2333 - val_accuracy: 0.9095\n",
            "Epoch 13/20\n",
            "63/63 [==============================] - 33s 522ms/step - loss: 0.0993 - accuracy: 0.9693 - val_loss: 0.2251 - val_accuracy: 0.9125\n",
            "Epoch 14/20\n",
            "63/63 [==============================] - 34s 539ms/step - loss: 0.0858 - accuracy: 0.9736 - val_loss: 0.2213 - val_accuracy: 0.9160\n",
            "Epoch 15/20\n",
            "63/63 [==============================] - 33s 532ms/step - loss: 0.0745 - accuracy: 0.9772 - val_loss: 0.2220 - val_accuracy: 0.9175\n",
            "Epoch 16/20\n",
            "63/63 [==============================] - 34s 541ms/step - loss: 0.0654 - accuracy: 0.9804 - val_loss: 0.2209 - val_accuracy: 0.9190\n",
            "Epoch 17/20\n",
            "63/63 [==============================] - 35s 558ms/step - loss: 0.0578 - accuracy: 0.9835 - val_loss: 0.2279 - val_accuracy: 0.9205\n",
            "Epoch 18/20\n",
            "63/63 [==============================] - 34s 546ms/step - loss: 0.0514 - accuracy: 0.9859 - val_loss: 0.2206 - val_accuracy: 0.9245\n",
            "Epoch 19/20\n",
            "63/63 [==============================] - 34s 536ms/step - loss: 0.0458 - accuracy: 0.9876 - val_loss: 0.2214 - val_accuracy: 0.9245\n",
            "Epoch 20/20\n",
            "63/63 [==============================] - 34s 536ms/step - loss: 0.0412 - accuracy: 0.9886 - val_loss: 0.2271 - val_accuracy: 0.9240\n"
          ]
        }
      ]
    },
    {
      "cell_type": "markdown",
      "source": [
        "# **Evaluate**"
      ],
      "metadata": {
        "id": "huR7kkDnKvZ5"
      }
    },
    {
      "cell_type": "code",
      "source": [
        "test = preprocess(test_data)\n",
        "results = new_model.evaluate(test['text'], test['score'])\n",
        "\n",
        "print(results)"
      ],
      "metadata": {
        "colab": {
          "base_uri": "https://localhost:8080/"
        },
        "id": "SFaADKuRSDAd",
        "outputId": "9e4b437b-5e39-4b0f-a289-633a3bc58f64"
      },
      "execution_count": null,
      "outputs": [
        {
          "output_type": "stream",
          "name": "stdout",
          "text": [
            "63/63 [==============================] - 5s 79ms/step - loss: 0.1982 - accuracy: 0.9335\n",
            "[0.19823013246059418, 0.9334999918937683]\n"
          ]
        }
      ]
    },
    {
      "cell_type": "markdown",
      "source": [
        "# **Prediction and Result**"
      ],
      "metadata": {
        "id": "-xFgyQpuBPgE"
      }
    },
    {
      "cell_type": "code",
      "source": [
        "prediction = new_model.predict(train_data.text)"
      ],
      "metadata": {
        "id": "ktaOZEX1iMUB"
      },
      "execution_count": null,
      "outputs": []
    },
    {
      "cell_type": "code",
      "source": [
        "def postprocessing(preds):\n",
        "  range = prediction.max()-prediction.min()\n",
        "  norm_preds = []\n",
        "  probab = []\n",
        "  for i in preds:\n",
        "    norm_preds.append((i - prediction.min()) / range)\n",
        "    probab.append((i - prediction.min()) * 100 / range)\n",
        "  return np.mean(probab)"
      ],
      "metadata": {
        "id": "uQO2p9EyiTEE"
      },
      "execution_count": null,
      "outputs": []
    },
    {
      "cell_type": "markdown",
      "source": [
        "# **Checking prediction**\n"
      ],
      "metadata": {
        "id": "USbuaHLkKTM6"
      }
    },
    {
      "cell_type": "markdown",
      "source": [
        "Positive sentiment"
      ],
      "metadata": {
        "id": "0fm6Y5im7Fk8"
      }
    },
    {
      "cell_type": "code",
      "source": [
        "answers = []\n",
        "#Q1\n",
        "print('Can you describe your life in one word?')\n",
        "answers.append(input())\n",
        "\n",
        "#Q2\n",
        "print('How do you describe your feeling now ?')\n",
        "answers.append(input())\n",
        "\n",
        "#Q3\n",
        "print('How would you describe your experience at your workplace/college/school in the past few days?')\n",
        "answers.append(input())\n",
        "\n",
        "#Q4\n",
        "print('How do you like to spend your leisure time? How do you feel after it?')\n",
        "answers.append(input())\n",
        "\n",
        "#Q5\n",
        "print('Life has its ups and downs. Although handling successes can be difficult, setbacks can affect mental health strongly. How do you manage your emotions after failures?')\n",
        "answers.append(input())\n",
        "\n",
        "results = new_model.predict(answers)\n",
        "print('Your mental health score is:', postprocessing(results))\n",
        "\n",
        "score = postprocessing(results)\n",
        "if score < 25:\n",
        "    print(\"You are going through a bad phase in life. But don't worry, bad times are not permanent. Try to seek help from a trained professional to improve your mental health.\")\n",
        "else:\n",
        "    print(\"Your mental health looks great! Continue enjoying life and try to help others who are struggling with their mental health.\")"
      ],
      "metadata": {
        "colab": {
          "base_uri": "https://localhost:8080/"
        },
        "id": "Vg_cseZ1iV7E",
        "outputId": "370d2b31-98ac-483a-939b-dfeaef2fd258"
      },
      "execution_count": null,
      "outputs": [
        {
          "output_type": "stream",
          "name": "stdout",
          "text": [
            "Can you describe your life in one word?\n",
            "Great\n",
            "How do you describe your feeling now ?\n",
            "I am feeling really carefree now\n",
            "How would you describe your experience at your workplace/college/school in the past few days?\n",
            "It is run smootly\n",
            "How do you like to spend your leisure time? How do you feel after it?\n",
            "I like to have me time, just sleeping and listeing a song or watch a movie. After that i feel fresh\n",
            "Life has its ups and downs. Although handling successes can be difficult, setbacks can affect mental health strongly. How do you manage your emotions after failures?\n",
            "I will dissapear for few times to manage my emotions\n",
            "Your mental health score is: 78.01993\n",
            "Your mental health looks great! Continue enjoying life and try to help others who are struggling with their mental health.\n"
          ]
        }
      ]
    },
    {
      "cell_type": "markdown",
      "source": [
        "Negative Sentimen"
      ],
      "metadata": {
        "id": "NlF4tIU_9EGm"
      }
    },
    {
      "cell_type": "code",
      "source": [
        "answers = []\n",
        "#Q1\n",
        "print('Can you describe your life in one word?')\n",
        "answers.append(input())\n",
        "\n",
        "#Q2\n",
        "print('How do you describe your feeling now ?')\n",
        "answers.append(input())\n",
        "\n",
        "#Q3\n",
        "print('How would you describe your experience at your workplace/college/school in the past few days?')\n",
        "answers.append(input())\n",
        "\n",
        "#Q4\n",
        "print('How do you like to spend your leisure time? How do you feel after it?')\n",
        "answers.append(input())\n",
        "\n",
        "#Q5\n",
        "print('Life has its ups and downs. Although handling successes can be difficult, setbacks can affect mental health strongly. How do you manage your emotions after failures?')\n",
        "answers.append(input())\n",
        "\n",
        "results = new_model.predict(answers)\n",
        "print('Your mental health score is:', postprocessing(results))\n",
        "\n",
        "score = postprocessing(results)\n",
        "if score < 25:\n",
        "    print(\"You are going through a bad phase in life. But don't worry, bad times are not permanent. Try to seek help from a trained professional to improve your mental health.\")\n",
        "else:\n",
        "    print(\"Your mental health looks great! Continue enjoying life and try to help others who are struggling with their mental health.\")"
      ],
      "metadata": {
        "colab": {
          "base_uri": "https://localhost:8080/"
        },
        "id": "Xke8NMV68m4x",
        "outputId": "66abc80a-3216-4925-f842-e97a15a79077"
      },
      "execution_count": null,
      "outputs": [
        {
          "output_type": "stream",
          "name": "stdout",
          "text": [
            "Can you describe your life in one word?\n",
            "Bad\n",
            "How do you describe your feeling now ?\n",
            "I am feeling frustated with my life this whole week\n",
            "How would you describe your experience at your workplace/college/school in the past few days?\n",
            "i feel selfish and spoiled\n",
            "How do you like to spend your leisure time? How do you feel after it?\n",
            "i feel pretty pathetic most of the time\n",
            "Life has its ups and downs. Although handling successes can be difficult, setbacks can affect mental health strongly. How do you manage your emotions after failures?\n",
            "i suppose he feels badly because he was a bit skeptical of her pain over the last few months shes had a hyperchondria and exaggeration habit in the past though he never openly questioned her about it\n",
            "Your mental health score is: 20.394438\n",
            "You are going through a bad phase in life. But don't worry, bad times are not permanent. Try to seek help from a trained professional to improve your mental health.\n"
          ]
        }
      ]
    },
    {
      "cell_type": "markdown",
      "source": [
        "# **Save and convert model**"
      ],
      "metadata": {
        "id": "IXK-lDZDKb2I"
      }
    },
    {
      "cell_type": "code",
      "source": [
        "new_model.save('purify_v1.h5')"
      ],
      "metadata": {
        "id": "dj3QjS4hIn05"
      },
      "execution_count": null,
      "outputs": []
    },
    {
      "cell_type": "code",
      "source": [
        "# Converting a tf.Keras model to a TensorFlow Lite model.\n",
        "converter = tf.lite.TFLiteConverter.from_keras_model(new_model)\n",
        "converter.target_spec.supported_ops = [\n",
        "  tf.lite.OpsSet.TFLITE_BUILTINS, # enable TensorFlow Lite ops.\n",
        "  tf.lite.OpsSet.SELECT_TF_OPS # enable TensorFlow ops.\n",
        "]\n",
        "tflite_model = converter.convert()"
      ],
      "metadata": {
        "colab": {
          "base_uri": "https://localhost:8080/"
        },
        "id": "OZLP92xNAAYG",
        "outputId": "fbba24ac-73b1-4d3e-cdff-7563fe500ff6"
      },
      "execution_count": null,
      "outputs": [
        {
          "output_type": "stream",
          "name": "stdout",
          "text": [
            "INFO:tensorflow:Assets written to: /tmp/tmprtfcbrv9/assets\n"
          ]
        },
        {
          "output_type": "stream",
          "name": "stderr",
          "text": [
            "INFO:tensorflow:Assets written to: /tmp/tmprtfcbrv9/assets\n",
            "WARNING:absl:Buffer deduplication procedure will be skipped when flatbuffer library is not properly loaded\n"
          ]
        }
      ]
    },
    {
      "cell_type": "code",
      "source": [
        "TF_LITE_MODEL_FILE_NAME = \"purify_v1(2).tflite\"\n",
        "tflite_model_name = TF_LITE_MODEL_FILE_NAME\n",
        "open(tflite_model_name, \"wb\").write(tflite_model)"
      ],
      "metadata": {
        "colab": {
          "base_uri": "https://localhost:8080/"
        },
        "id": "lgnBMN5_AhaJ",
        "outputId": "365fb755-74c4-4979-e30e-1ddee7e43537"
      },
      "execution_count": null,
      "outputs": [
        {
          "output_type": "execute_result",
          "data": {
            "text/plain": [
              "192887988"
            ]
          },
          "metadata": {},
          "execution_count": 123
        }
      ]
    }
  ]
}